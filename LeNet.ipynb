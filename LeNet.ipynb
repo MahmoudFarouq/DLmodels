{
  "nbformat": 4,
  "nbformat_minor": 0,
  "metadata": {
    "colab": {
      "name": "LeNet.ipynb",
      "version": "0.3.2",
      "provenance": [],
      "collapsed_sections": [],
      "include_colab_link": true
    },
    "kernelspec": {
      "name": "python3",
      "display_name": "Python 3"
    },
    "accelerator": "GPU"
  },
  "cells": [
    {
      "cell_type": "markdown",
      "metadata": {
        "id": "view-in-github",
        "colab_type": "text"
      },
      "source": [
        "[View in Colaboratory](https://colab.research.google.com/github/MahmoudFarouq/DLmodels/blob/master/LeNet.ipynb)"
      ]
    },
    {
      "metadata": {
        "id": "s1FrG0vrkRYS",
        "colab_type": "code",
        "colab": {}
      },
      "cell_type": "code",
      "source": [
        "import tensorflow as tf\n",
        "import numpy as np\n",
        "from tensorflow.examples.tutorials.mnist import input_data\n",
        "import matplotlib.pyplot as plt"
      ],
      "execution_count": 0,
      "outputs": []
    },
    {
      "metadata": {
        "id": "UGWWUmliknwJ",
        "colab_type": "code",
        "colab": {
          "base_uri": "https://localhost:8080/",
          "height": 419
        },
        "outputId": "a6dcdffa-4ed5-4dad-9527-9feebf2b4a1c"
      },
      "cell_type": "code",
      "source": [
        "mnist = input_data.read_data_sets('MNIST_data', one_hot=True)"
      ],
      "execution_count": 2,
      "outputs": [
        {
          "output_type": "stream",
          "text": [
            "WARNING:tensorflow:From <ipython-input-2-71e12f4bac70>:1: read_data_sets (from tensorflow.contrib.learn.python.learn.datasets.mnist) is deprecated and will be removed in a future version.\n",
            "Instructions for updating:\n",
            "Please use alternatives such as official/mnist/dataset.py from tensorflow/models.\n",
            "WARNING:tensorflow:From /usr/local/lib/python3.6/dist-packages/tensorflow/contrib/learn/python/learn/datasets/mnist.py:260: maybe_download (from tensorflow.contrib.learn.python.learn.datasets.base) is deprecated and will be removed in a future version.\n",
            "Instructions for updating:\n",
            "Please write your own downloading logic.\n",
            "WARNING:tensorflow:From /usr/local/lib/python3.6/dist-packages/tensorflow/contrib/learn/python/learn/datasets/mnist.py:262: extract_images (from tensorflow.contrib.learn.python.learn.datasets.mnist) is deprecated and will be removed in a future version.\n",
            "Instructions for updating:\n",
            "Please use tf.data to implement this functionality.\n",
            "Extracting MNIST_data/train-images-idx3-ubyte.gz\n",
            "WARNING:tensorflow:From /usr/local/lib/python3.6/dist-packages/tensorflow/contrib/learn/python/learn/datasets/mnist.py:267: extract_labels (from tensorflow.contrib.learn.python.learn.datasets.mnist) is deprecated and will be removed in a future version.\n",
            "Instructions for updating:\n",
            "Please use tf.data to implement this functionality.\n",
            "Extracting MNIST_data/train-labels-idx1-ubyte.gz\n",
            "WARNING:tensorflow:From /usr/local/lib/python3.6/dist-packages/tensorflow/contrib/learn/python/learn/datasets/mnist.py:110: dense_to_one_hot (from tensorflow.contrib.learn.python.learn.datasets.mnist) is deprecated and will be removed in a future version.\n",
            "Instructions for updating:\n",
            "Please use tf.one_hot on tensors.\n",
            "Extracting MNIST_data/t10k-images-idx3-ubyte.gz\n",
            "Extracting MNIST_data/t10k-labels-idx1-ubyte.gz\n",
            "WARNING:tensorflow:From /usr/local/lib/python3.6/dist-packages/tensorflow/contrib/learn/python/learn/datasets/mnist.py:290: DataSet.__init__ (from tensorflow.contrib.learn.python.learn.datasets.mnist) is deprecated and will be removed in a future version.\n",
            "Instructions for updating:\n",
            "Please use alternatives such as official/mnist/dataset.py from tensorflow/models.\n"
          ],
          "name": "stdout"
        }
      ]
    },
    {
      "metadata": {
        "id": "BbLTEHCjl7i3",
        "colab_type": "code",
        "colab": {}
      },
      "cell_type": "code",
      "source": [
        "def ConvLayer(prev_output, ksize, out_filters, strides, padding):\n",
        "  \n",
        "  kernels = tf.Variable(tf.truncated_normal(shape=ksize,\n",
        "                                            mean=0, \n",
        "                                            stddev=0.1))\n",
        "  \n",
        "  b = tf.Variable(tf.constant(0.1, shape=[out_filters]))\n",
        "  \n",
        "  conv = tf.nn.conv2d(input=prev_output, \n",
        "                      filter=kernels,\n",
        "                      strides=strides,\n",
        "                      padding=padding)\n",
        "  out = tf.nn.relu(conv + b)\n",
        "  return out"
      ],
      "execution_count": 0,
      "outputs": []
    },
    {
      "metadata": {
        "id": "Gp7IDdDMnIYU",
        "colab_type": "code",
        "colab": {}
      },
      "cell_type": "code",
      "source": [
        "def MaxPoolingLayer(X, ksize, strides, padding):\n",
        "  return tf.nn.max_pool(value=X, ksize=ksize, strides=strides, padding=padding)"
      ],
      "execution_count": 0,
      "outputs": []
    },
    {
      "metadata": {
        "id": "OHKM5RavnznD",
        "colab_type": "code",
        "colab": {}
      },
      "cell_type": "code",
      "source": [
        "def addZeroPadding(X, padding):\n",
        "  return tf.pad(X, padding)"
      ],
      "execution_count": 0,
      "outputs": []
    },
    {
      "metadata": {
        "id": "RWBNmSC7lcpA",
        "colab_type": "code",
        "colab": {}
      },
      "cell_type": "code",
      "source": [
        "X = tf.placeholder(dtype=tf.float32, shape=[None, 28, 28, 1], name='inputs')\n",
        "Y = tf.placeholder(dtype=tf.float32, shape=[None, 10], name='targets')\n",
        "\n",
        "X_1 = addZeroPadding(X, ((0, 0), (2, 2), (2, 2), (0, 0)) ) # shape becomes [None, 32, 32, 1]\n",
        "\n",
        "f = 5\n",
        "s = 1\n",
        "ksize = [f,f,1,8]\n",
        "strides = [1,s,s,1]\n",
        "padding = 'VALID'\n",
        "X_2 = ConvLayer(X_1, ksize, 8, strides, padding)"
      ],
      "execution_count": 0,
      "outputs": []
    },
    {
      "metadata": {
        "id": "uKRuoKMyr_1I",
        "colab_type": "code",
        "colab": {
          "base_uri": "https://localhost:8080/",
          "height": 34
        },
        "outputId": "6595ca3e-f622-48ba-c9a5-c5690bb24cb6"
      },
      "cell_type": "code",
      "source": [
        "X_2.get_shape().as_list()"
      ],
      "execution_count": 7,
      "outputs": [
        {
          "output_type": "execute_result",
          "data": {
            "text/plain": [
              "[None, 28, 28, 8]"
            ]
          },
          "metadata": {
            "tags": []
          },
          "execution_count": 7
        }
      ]
    },
    {
      "metadata": {
        "id": "5TEnW0q2sJbw",
        "colab_type": "code",
        "colab": {}
      },
      "cell_type": "code",
      "source": [
        "X_3 = MaxPoolingLayer(X_2, [1, 2, 2, 1], [1, 2, 2, 1], 'SAME')"
      ],
      "execution_count": 0,
      "outputs": []
    },
    {
      "metadata": {
        "id": "d3d1L5PktKnM",
        "colab_type": "code",
        "colab": {
          "base_uri": "https://localhost:8080/",
          "height": 34
        },
        "outputId": "69bf68d4-12e5-4310-c045-0387d4c890b3"
      },
      "cell_type": "code",
      "source": [
        "X_3.get_shape().as_list()"
      ],
      "execution_count": 10,
      "outputs": [
        {
          "output_type": "execute_result",
          "data": {
            "text/plain": [
              "[None, 14, 14, 8]"
            ]
          },
          "metadata": {
            "tags": []
          },
          "execution_count": 10
        }
      ]
    },
    {
      "metadata": {
        "id": "uB40y_SCtM-o",
        "colab_type": "code",
        "colab": {}
      },
      "cell_type": "code",
      "source": [
        "f = 5\n",
        "s = 1\n",
        "ksize = [f,f,8,16]\n",
        "strides = [1,s,s,1]\n",
        "padding = 'VALID'\n",
        "X_4 = ConvLayer(X_3, ksize, 16, strides, padding)"
      ],
      "execution_count": 0,
      "outputs": []
    },
    {
      "metadata": {
        "id": "EOTW7DQUtrgT",
        "colab_type": "code",
        "colab": {
          "base_uri": "https://localhost:8080/",
          "height": 34
        },
        "outputId": "8492d21e-d39a-4eb3-f9d4-f36ff9c4a9b7"
      },
      "cell_type": "code",
      "source": [
        "X_4.get_shape().as_list()"
      ],
      "execution_count": 12,
      "outputs": [
        {
          "output_type": "execute_result",
          "data": {
            "text/plain": [
              "[None, 10, 10, 16]"
            ]
          },
          "metadata": {
            "tags": []
          },
          "execution_count": 12
        }
      ]
    },
    {
      "metadata": {
        "id": "vViJxS7ktyyl",
        "colab_type": "code",
        "colab": {}
      },
      "cell_type": "code",
      "source": [
        "X_5 = MaxPoolingLayer(X_4, [1, 2, 2, 1], [1, 2, 2, 1], 'SAME')"
      ],
      "execution_count": 0,
      "outputs": []
    },
    {
      "metadata": {
        "id": "e68E5NDIt3r2",
        "colab_type": "code",
        "colab": {
          "base_uri": "https://localhost:8080/",
          "height": 34
        },
        "outputId": "88e11324-2cba-49b4-89a8-e94abb178721"
      },
      "cell_type": "code",
      "source": [
        "X_5.get_shape().as_list()"
      ],
      "execution_count": 14,
      "outputs": [
        {
          "output_type": "execute_result",
          "data": {
            "text/plain": [
              "[None, 5, 5, 16]"
            ]
          },
          "metadata": {
            "tags": []
          },
          "execution_count": 14
        }
      ]
    },
    {
      "metadata": {
        "id": "WG8zrXERt4-i",
        "colab_type": "code",
        "colab": {}
      },
      "cell_type": "code",
      "source": [
        "X_6 = tf.contrib.layers.flatten(X_5)"
      ],
      "execution_count": 0,
      "outputs": []
    },
    {
      "metadata": {
        "id": "I4__vlU3uP4Y",
        "colab_type": "code",
        "colab": {
          "base_uri": "https://localhost:8080/",
          "height": 34
        },
        "outputId": "4855258d-172e-419d-db0a-882b1d972c63"
      },
      "cell_type": "code",
      "source": [
        "X_6.get_shape().as_list()"
      ],
      "execution_count": 16,
      "outputs": [
        {
          "output_type": "execute_result",
          "data": {
            "text/plain": [
              "[None, 400]"
            ]
          },
          "metadata": {
            "tags": []
          },
          "execution_count": 16
        }
      ]
    },
    {
      "metadata": {
        "id": "Kw3yGyrBuRso",
        "colab_type": "code",
        "colab": {}
      },
      "cell_type": "code",
      "source": [
        "X_7 = tf.contrib.layers.fully_connected(X_6, 120)"
      ],
      "execution_count": 0,
      "outputs": []
    },
    {
      "metadata": {
        "id": "3-lp5mABuxer",
        "colab_type": "code",
        "colab": {
          "base_uri": "https://localhost:8080/",
          "height": 34
        },
        "outputId": "70cd20ab-f463-45f6-eecd-b83e1b9c547b"
      },
      "cell_type": "code",
      "source": [
        "X_7.get_shape().as_list()"
      ],
      "execution_count": 18,
      "outputs": [
        {
          "output_type": "execute_result",
          "data": {
            "text/plain": [
              "[None, 120]"
            ]
          },
          "metadata": {
            "tags": []
          },
          "execution_count": 18
        }
      ]
    },
    {
      "metadata": {
        "id": "Erb2b4mru3K0",
        "colab_type": "code",
        "colab": {}
      },
      "cell_type": "code",
      "source": [
        "X_8 = tf.contrib.layers.fully_connected(X_7, 84)"
      ],
      "execution_count": 0,
      "outputs": []
    },
    {
      "metadata": {
        "id": "8qtSuCs6u9Nx",
        "colab_type": "code",
        "colab": {}
      },
      "cell_type": "code",
      "source": [
        "y_pred = tf.contrib.layers.fully_connected(X_8, 10, activation_fn=tf.nn.softmax)\n",
        "predictor = tf.argmax(y_pred, axis=1, name='predictor')"
      ],
      "execution_count": 0,
      "outputs": []
    },
    {
      "metadata": {
        "id": "mR6FH8_avL2m",
        "colab_type": "code",
        "colab": {
          "base_uri": "https://localhost:8080/",
          "height": 34
        },
        "outputId": "95a3891c-8b9c-42a7-9ac6-b6b8ce73bed9"
      },
      "cell_type": "code",
      "source": [
        "y_pred.get_shape().as_list()"
      ],
      "execution_count": 21,
      "outputs": [
        {
          "output_type": "execute_result",
          "data": {
            "text/plain": [
              "[None, 10]"
            ]
          },
          "metadata": {
            "tags": []
          },
          "execution_count": 21
        }
      ]
    },
    {
      "metadata": {
        "id": "WBZ9QickvPKH",
        "colab_type": "code",
        "colab": {}
      },
      "cell_type": "code",
      "source": [
        "loss = tf.reduce_mean( tf.nn.softmax_cross_entropy_with_logits_v2(labels=Y, logits=y_pred) , name='loss')"
      ],
      "execution_count": 0,
      "outputs": []
    },
    {
      "metadata": {
        "id": "cB2eM5R5vl18",
        "colab_type": "code",
        "colab": {}
      },
      "cell_type": "code",
      "source": [
        "optim = tf.train.AdamOptimizer(learning_rate=0.001).minimize(loss)"
      ],
      "execution_count": 0,
      "outputs": []
    },
    {
      "metadata": {
        "id": "SYV1YI-Xvu4G",
        "colab_type": "code",
        "colab": {}
      },
      "cell_type": "code",
      "source": [
        "argmax = tf.equal( tf.argmax(Y, 1), tf.argmax(y_pred, 1))\n",
        "cast = tf.cast( argmax, dtype=tf.float32)\n",
        "accuracy = tf.reduce_sum(cast, name='accuracy')"
      ],
      "execution_count": 0,
      "outputs": []
    },
    {
      "metadata": {
        "id": "VMN25m-RwLYc",
        "colab_type": "code",
        "colab": {}
      },
      "cell_type": "code",
      "source": [
        "sess = tf.Session()"
      ],
      "execution_count": 0,
      "outputs": []
    },
    {
      "metadata": {
        "id": "YKIDuMDswe3V",
        "colab_type": "code",
        "colab": {
          "base_uri": "https://localhost:8080/",
          "height": 1754
        },
        "outputId": "77e0eb3d-cff9-4e10-8de0-01af26430bdf"
      },
      "cell_type": "code",
      "source": [
        "sess.run(tf.global_variables_initializer())\n",
        "\n",
        "n_epoch = 1000\n",
        "for i in range(n_epoch):\n",
        "  images, labels = mnist.train.next_batch(124)\n",
        "  images = tf.reshape(images, (-1, 28, 28, 1)).eval(session=sess)\n",
        "  _, l = sess.run([optim, loss], feed_dict={X:images, Y:labels})\n",
        "  if i % 10 == 0:\n",
        "    acc = sess.run(accuracy, feed_dict={X:images, Y:labels})\n",
        "    acc = acc/128\n",
        "    print('the loss at epoch %d: %f --> with accuracy: %f'%(i, l, acc))\n",
        "    "
      ],
      "execution_count": 26,
      "outputs": [
        {
          "output_type": "stream",
          "text": [
            "the loss at epoch 0: 2.298527 --> with accuracy: 0.109375\n",
            "the loss at epoch 10: 2.200021 --> with accuracy: 0.390625\n",
            "the loss at epoch 20: 1.970062 --> with accuracy: 0.625000\n",
            "the loss at epoch 30: 1.778791 --> with accuracy: 0.710938\n",
            "the loss at epoch 40: 1.818066 --> with accuracy: 0.640625\n",
            "the loss at epoch 50: 1.824753 --> with accuracy: 0.609375\n",
            "the loss at epoch 60: 1.695131 --> with accuracy: 0.757812\n",
            "the loss at epoch 70: 1.732646 --> with accuracy: 0.750000\n",
            "the loss at epoch 80: 1.709387 --> with accuracy: 0.710938\n",
            "the loss at epoch 90: 1.660050 --> with accuracy: 0.789062\n",
            "the loss at epoch 100: 1.597186 --> with accuracy: 0.843750\n",
            "the loss at epoch 110: 1.684231 --> with accuracy: 0.773438\n",
            "the loss at epoch 120: 1.614808 --> with accuracy: 0.835938\n",
            "the loss at epoch 130: 1.682726 --> with accuracy: 0.765625\n",
            "the loss at epoch 140: 1.663325 --> with accuracy: 0.781250\n",
            "the loss at epoch 150: 1.673309 --> with accuracy: 0.773438\n",
            "the loss at epoch 160: 1.635360 --> with accuracy: 0.835938\n",
            "the loss at epoch 170: 1.610339 --> with accuracy: 0.843750\n",
            "the loss at epoch 180: 1.586788 --> with accuracy: 0.875000\n",
            "the loss at epoch 190: 1.605221 --> with accuracy: 0.835938\n",
            "the loss at epoch 200: 1.591123 --> with accuracy: 0.851562\n",
            "the loss at epoch 210: 1.592187 --> with accuracy: 0.843750\n",
            "the loss at epoch 220: 1.591956 --> with accuracy: 0.851562\n",
            "the loss at epoch 230: 1.566021 --> with accuracy: 0.882812\n",
            "the loss at epoch 240: 1.633572 --> with accuracy: 0.804688\n",
            "the loss at epoch 250: 1.629745 --> with accuracy: 0.828125\n",
            "the loss at epoch 260: 1.576536 --> with accuracy: 0.859375\n",
            "the loss at epoch 270: 1.615422 --> with accuracy: 0.843750\n",
            "the loss at epoch 280: 1.610965 --> with accuracy: 0.835938\n",
            "the loss at epoch 290: 1.621346 --> with accuracy: 0.820312\n",
            "the loss at epoch 300: 1.571768 --> with accuracy: 0.875000\n",
            "the loss at epoch 310: 1.631650 --> with accuracy: 0.804688\n",
            "the loss at epoch 320: 1.614811 --> with accuracy: 0.835938\n",
            "the loss at epoch 330: 1.576911 --> with accuracy: 0.875000\n",
            "the loss at epoch 340: 1.677014 --> with accuracy: 0.781250\n",
            "the loss at epoch 350: 1.584438 --> with accuracy: 0.851562\n",
            "the loss at epoch 360: 1.665212 --> with accuracy: 0.773438\n",
            "the loss at epoch 370: 1.569104 --> with accuracy: 0.867188\n",
            "the loss at epoch 380: 1.593525 --> with accuracy: 0.843750\n",
            "the loss at epoch 390: 1.572707 --> with accuracy: 0.867188\n",
            "the loss at epoch 400: 1.634105 --> with accuracy: 0.812500\n",
            "the loss at epoch 410: 1.590407 --> with accuracy: 0.843750\n",
            "the loss at epoch 420: 1.593646 --> with accuracy: 0.851562\n",
            "the loss at epoch 430: 1.616667 --> with accuracy: 0.828125\n",
            "the loss at epoch 440: 1.562286 --> with accuracy: 0.867188\n",
            "the loss at epoch 450: 1.532506 --> with accuracy: 0.906250\n",
            "the loss at epoch 460: 1.565034 --> with accuracy: 0.875000\n",
            "the loss at epoch 470: 1.595643 --> with accuracy: 0.851562\n",
            "the loss at epoch 480: 1.586031 --> with accuracy: 0.851562\n",
            "the loss at epoch 490: 1.640717 --> with accuracy: 0.804688\n",
            "the loss at epoch 500: 1.591700 --> with accuracy: 0.843750\n",
            "the loss at epoch 510: 1.568146 --> with accuracy: 0.867188\n",
            "the loss at epoch 520: 1.553502 --> with accuracy: 0.882812\n",
            "the loss at epoch 530: 1.588949 --> with accuracy: 0.851562\n",
            "the loss at epoch 540: 1.642640 --> with accuracy: 0.796875\n",
            "the loss at epoch 550: 1.649021 --> with accuracy: 0.789062\n",
            "the loss at epoch 560: 1.581096 --> with accuracy: 0.859375\n"
          ],
          "name": "stdout"
        },
        {
          "output_type": "stream",
          "text": [
            "the loss at epoch 570: 1.576162 --> with accuracy: 0.867188\n",
            "the loss at epoch 580: 1.597430 --> with accuracy: 0.835938\n",
            "the loss at epoch 590: 1.583268 --> with accuracy: 0.843750\n",
            "the loss at epoch 600: 1.578907 --> with accuracy: 0.859375\n",
            "the loss at epoch 610: 1.620343 --> with accuracy: 0.820312\n",
            "the loss at epoch 620: 1.627916 --> with accuracy: 0.812500\n",
            "the loss at epoch 630: 1.590242 --> with accuracy: 0.851562\n",
            "the loss at epoch 640: 1.578177 --> with accuracy: 0.859375\n",
            "the loss at epoch 650: 1.556975 --> with accuracy: 0.882812\n",
            "the loss at epoch 660: 1.594124 --> with accuracy: 0.843750\n",
            "the loss at epoch 670: 1.610697 --> with accuracy: 0.828125\n",
            "the loss at epoch 680: 1.528740 --> with accuracy: 0.906250\n",
            "the loss at epoch 690: 1.596094 --> with accuracy: 0.843750\n",
            "the loss at epoch 700: 1.535089 --> with accuracy: 0.898438\n",
            "the loss at epoch 710: 1.591300 --> with accuracy: 0.843750\n",
            "the loss at epoch 720: 1.556545 --> with accuracy: 0.882812\n",
            "the loss at epoch 730: 1.561134 --> with accuracy: 0.875000\n",
            "the loss at epoch 740: 1.574149 --> with accuracy: 0.859375\n",
            "the loss at epoch 750: 1.570896 --> with accuracy: 0.875000\n",
            "the loss at epoch 760: 1.561944 --> with accuracy: 0.875000\n",
            "the loss at epoch 770: 1.645257 --> with accuracy: 0.789062\n",
            "the loss at epoch 780: 1.604053 --> with accuracy: 0.828125\n",
            "the loss at epoch 790: 1.541868 --> with accuracy: 0.906250\n",
            "the loss at epoch 800: 1.572579 --> with accuracy: 0.867188\n",
            "the loss at epoch 810: 1.554884 --> with accuracy: 0.898438\n",
            "the loss at epoch 820: 1.583740 --> with accuracy: 0.867188\n",
            "the loss at epoch 830: 1.532000 --> with accuracy: 0.906250\n",
            "the loss at epoch 840: 1.601336 --> with accuracy: 0.835938\n",
            "the loss at epoch 850: 1.616968 --> with accuracy: 0.820312\n",
            "the loss at epoch 860: 1.573133 --> with accuracy: 0.859375\n",
            "the loss at epoch 870: 1.608135 --> with accuracy: 0.828125\n",
            "the loss at epoch 880: 1.579423 --> with accuracy: 0.859375\n",
            "the loss at epoch 890: 1.567324 --> with accuracy: 0.867188\n",
            "the loss at epoch 900: 1.600173 --> with accuracy: 0.835938\n",
            "the loss at epoch 910: 1.568136 --> with accuracy: 0.867188\n",
            "the loss at epoch 920: 1.578499 --> with accuracy: 0.859375\n",
            "the loss at epoch 930: 1.569616 --> with accuracy: 0.867188\n",
            "the loss at epoch 940: 1.551113 --> with accuracy: 0.882812\n",
            "the loss at epoch 950: 1.544511 --> with accuracy: 0.898438\n",
            "the loss at epoch 960: 1.621834 --> with accuracy: 0.812500\n",
            "the loss at epoch 970: 1.591366 --> with accuracy: 0.843750\n",
            "the loss at epoch 980: 1.571242 --> with accuracy: 0.867188\n",
            "the loss at epoch 990: 1.601213 --> with accuracy: 0.835938\n"
          ],
          "name": "stdout"
        }
      ]
    },
    {
      "metadata": {
        "id": "aaEM3jTHxWIh",
        "colab_type": "code",
        "colab": {
          "base_uri": "https://localhost:8080/",
          "height": 34
        },
        "outputId": "bd39c855-4468-4e2b-faf8-43507f0244e7"
      },
      "cell_type": "code",
      "source": [
        "sum_ = 0\n",
        "for i in range(20):\n",
        "  test_batch = mnist.test.next_batch(200)\n",
        "  batch_acc = sess.run(accuracy, feed_dict={X: test_batch[0].reshape([-1, 28, 28, 1]), Y: test_batch[1]})\n",
        "  sum_ += batch_acc\n",
        "\n",
        "print(\"test accuracy %g\"%(sum_/4000))"
      ],
      "execution_count": 27,
      "outputs": [
        {
          "output_type": "stream",
          "text": [
            "test accuracy 0.88275\n"
          ],
          "name": "stdout"
        }
      ]
    },
    {
      "metadata": {
        "id": "jDhfXviayusr",
        "colab_type": "code",
        "colab": {}
      },
      "cell_type": "code",
      "source": [
        "test_batch = mnist.test.next_batch(200)\n",
        "def Test(index):\n",
        "  testImg  = test_batch[0][index].reshape(1, 28, 28, 1)\n",
        "  testImgL = test_batch[1][index].reshape(1, 10)\n",
        "  res = sess.run( predictor, feed_dict={'inputs:0':testImg} )\n",
        "  print(\"predicted: %f\"%res)\n",
        "  plt.imshow(testImg.reshape(28, 28))\n",
        "  plt.show()"
      ],
      "execution_count": 0,
      "outputs": []
    },
    {
      "metadata": {
        "id": "5Z6bAUDrzGkV",
        "colab_type": "code",
        "colab": {
          "base_uri": "https://localhost:8080/",
          "height": 364
        },
        "outputId": "14f1df23-ccf9-4540-b561-dfdf2bfcae5e"
      },
      "cell_type": "code",
      "source": [
        "Test(18)"
      ],
      "execution_count": 31,
      "outputs": [
        {
          "output_type": "stream",
          "text": [
            "predicted: 5.000000\n"
          ],
          "name": "stdout"
        },
        {
          "output_type": "display_data",
          "data": {
            "image/png": "[encoded data removed]",
            "text/plain": [
              "<matplotlib.figure.Figure at 0x7f4663468cc0>"
            ]
          },
          "metadata": {
            "tags": []
          }
        }
      ]
    },
    {
      "metadata": {
        "id": "Fsr7lphSzIP6",
        "colab_type": "code",
        "colab": {}
      },
      "cell_type": "code",
      "source": [
        "saver = tf.train.Saver()"
      ],
      "execution_count": 0,
      "outputs": []
    },
    {
      "metadata": {
        "id": "B0CSRGpVzWVx",
        "colab_type": "code",
        "colab": {
          "base_uri": "https://localhost:8080/",
          "height": 34
        },
        "outputId": "b089f27c-29f3-40d8-92ef-a3ed2b6a68e9"
      },
      "cell_type": "code",
      "source": [
        "SAVE_PATH = './save'\n",
        "MODEL_NAME = 'LeNet'\n",
        "\n",
        "import os\n",
        "if not os.path.exists(SAVE_PATH):\n",
        "    os.mkdir(SAVE_PATH)\n",
        "\n",
        "path = saver.save(sess, SAVE_PATH + '/' + MODEL_NAME + '.ckpt')\n",
        "print(\"saved at {}\".format(path))"
      ],
      "execution_count": 33,
      "outputs": [
        {
          "output_type": "stream",
          "text": [
            "saved at ./save/LeNet.ckpt\n"
          ],
          "name": "stdout"
        }
      ]
    },
    {
      "metadata": {
        "id": "XHyEBjlPzfLv",
        "colab_type": "code",
        "colab": {
          "base_uri": "https://localhost:8080/",
          "height": 34
        },
        "outputId": "80c55687-40dc-4b56-a1a4-d70095489e18"
      },
      "cell_type": "code",
      "source": [
        "!ls ./save"
      ],
      "execution_count": 34,
      "outputs": [
        {
          "output_type": "stream",
          "text": [
            "checkpoint  LeNet.ckpt.data-00000-of-00001  LeNet.ckpt.index  LeNet.ckpt.meta\r\n"
          ],
          "name": "stdout"
        }
      ]
    },
    {
      "metadata": {
        "id": "PYaiaGdw0JXU",
        "colab_type": "code",
        "colab": {}
      },
      "cell_type": "code",
      "source": [
        "sess.close()"
      ],
      "execution_count": 0,
      "outputs": []
    },
    {
      "metadata": {
        "id": "eu11m9aD4PXW",
        "colab_type": "code",
        "colab": {
          "base_uri": "https://localhost:8080/",
          "height": 52
        },
        "outputId": "a466c39f-5575-4da6-e1f8-f149f03c5a19"
      },
      "cell_type": "code",
      "source": [
        "SAVE_PATH = './save'\n",
        "MODEL_NAME = 'LeNet'\n",
        "\n",
        "sess = tf.Session()\n",
        "checkpoint = tf.train.latest_checkpoint(SAVE_PATH)\n",
        "graph = tf.get_default_graph()\n",
        "saver = tf.train.import_meta_graph(checkpoint + '.meta')\n",
        "saver.restore(sess, checkpoint)\n",
        "\n",
        "loss = graph.get_tensor_by_name('loss:0')\n",
        "test = mnist.test.next_batch(200)\n",
        "test_loss = sess.run(loss, feed_dict={'inputs:0': test[0].reshape(-1, 28, 28, 1), 'targets:0': test[1]})\n",
        "print(\"TEST LOSS = {:0.4f}\".format(test_loss))"
      ],
      "execution_count": 36,
      "outputs": [
        {
          "output_type": "stream",
          "text": [
            "INFO:tensorflow:Restoring parameters from ./save/LeNet.ckpt\n",
            "TEST LOSS = 1.5814\n"
          ],
          "name": "stdout"
        }
      ]
    },
    {
      "metadata": {
        "id": "az8XaxULg1rb",
        "colab_type": "code",
        "colab": {}
      },
      "cell_type": "code",
      "source": [
        "predictor = graph.get_tensor_by_name('predictor:0')"
      ],
      "execution_count": 0,
      "outputs": []
    },
    {
      "metadata": {
        "id": "krIzga3B9VMZ",
        "colab_type": "code",
        "colab": {
          "base_uri": "https://localhost:8080/",
          "height": 364
        },
        "outputId": "7316882a-dd60-4ba4-a98e-611b67f5cb1a"
      },
      "cell_type": "code",
      "source": [
        "Test(15)"
      ],
      "execution_count": 38,
      "outputs": [
        {
          "output_type": "stream",
          "text": [
            "predicted: 8.000000\n"
          ],
          "name": "stdout"
        },
        {
          "output_type": "display_data",
          "data": {
            "image/png": "[encoded data removed]",
            "text/plain": [
              "<matplotlib.figure.Figure at 0x7f45e7960c18>"
            ]
          },
          "metadata": {
            "tags": []
          }
        }
      ]
    },
    {
      "metadata": {
        "id": "T_PxOC1Yz6Sd",
        "colab_type": "code",
        "colab": {
          "base_uri": "https://localhost:8080/",
          "height": 191
        },
        "outputId": "eec3198d-7190-4504-def4-e6e62a4b9484"
      },
      "cell_type": "code",
      "source": [
        "!pip3 install pydrive"
      ],
      "execution_count": 39,
      "outputs": [
        {
          "output_type": "stream",
          "text": [
            "Requirement already satisfied: pydrive in /usr/local/lib/python3.6/dist-packages (1.3.1)\r\n",
            "Requirement already satisfied: PyYAML>=3.0 in /usr/local/lib/python3.6/dist-packages (from pydrive) (3.13)\r\n",
            "Requirement already satisfied: oauth2client>=4.0.0 in /usr/local/lib/python3.6/dist-packages (from pydrive) (4.1.2)\n",
            "Requirement already satisfied: google-api-python-client>=1.2 in /usr/local/lib/python3.6/dist-packages (from pydrive) (1.6.7)\n",
            "Requirement already satisfied: rsa>=3.1.4 in /usr/local/lib/python3.6/dist-packages (from oauth2client>=4.0.0->pydrive) (3.4.2)\n",
            "Requirement already satisfied: six>=1.6.1 in /usr/local/lib/python3.6/dist-packages (from oauth2client>=4.0.0->pydrive) (1.11.0)\n",
            "Requirement already satisfied: pyasn1-modules>=0.0.5 in /usr/local/lib/python3.6/dist-packages (from oauth2client>=4.0.0->pydrive) (0.2.2)\n",
            "Requirement already satisfied: httplib2>=0.9.1 in /usr/local/lib/python3.6/dist-packages (from oauth2client>=4.0.0->pydrive) (0.11.3)\n",
            "Requirement already satisfied: pyasn1>=0.1.7 in /usr/local/lib/python3.6/dist-packages (from oauth2client>=4.0.0->pydrive) (0.4.3)\n",
            "Requirement already satisfied: uritemplate<4dev,>=3.0.0 in /usr/local/lib/python3.6/dist-packages (from google-api-python-client>=1.2->pydrive) (3.0.0)\n"
          ],
          "name": "stdout"
        }
      ]
    },
    {
      "metadata": {
        "id": "A3N-L6Csz8yY",
        "colab_type": "code",
        "colab": {}
      },
      "cell_type": "code",
      "source": [
        "from pydrive.auth import GoogleAuth\n",
        "from pydrive.drive import GoogleDrive\n",
        "from google.colab import auth\n",
        "from oauth2client.client import GoogleCredentials\n",
        "import os\n",
        "\n",
        "def upload(path, folder_id):\n",
        "\t# Authenticate and create the PyDrive client.\n",
        "\tauth.authenticate_user()\n",
        "\tgauth = GoogleAuth()\n",
        "\tgauth.credentials = GoogleCredentials.get_application_default()\n",
        "\tdrive = GoogleDrive(gauth)\n",
        "\tif not os.path.exists(path):\n",
        "\t\tprint(\"wrong path\")\n",
        "\t\treturn\n",
        "\tif os.path.isfile(path):\n",
        "\t\tuploadFile(drive, path, folder_id)\n",
        "\telse:\n",
        "\t\tuploadDirectory(drive, path, folder_id)\n",
        "\n",
        "\n",
        "def uploadDirectory(drive, directoryPath, folder_id):\n",
        "\t# create foder in drive under folder with folder id = folder_id\n",
        "\n",
        "\tdirName = getName(directoryPath)\n",
        "\tprint(\"uploading directory : {name}\".format(name=dirName))\n",
        "\tmetadata = {'parents':[{u'id': folder_id}], 'title' : dirName, 'mimeType' : 'application/vnd.google-apps.folder'}\n",
        "\tfolder = drive.CreateFile(metadata)\n",
        "\tfolder.Upload()\n",
        "\tnew_folder_id = folder.attr['metadata']['id']\n",
        "\n",
        "\tfor element in os.listdir(directoryPath):\n",
        "\t\telementPath = os.path.join(directoryPath, element)\n",
        "\t\tif os.path.isfile(elementPath):\n",
        "\t\t\tuploadFile(drive, elementPath, new_folder_id)\n",
        "\t\telif os.path.isdir(elementPath):\n",
        "\t\t\tuploadDirectory(drive, elementPath, new_folder_id)\n",
        "\t\n",
        "\tprint(\"uploaded directory  : {name}\".format(name=dirName))\n",
        "\n",
        "def uploadFile(drive, filePath, folder_id):\n",
        "\tif os.stat(filePath).st_size == 0:\n",
        "\t\treturn\n",
        "\tprint(\"uploading file : {name}\".format(name=filePath))\n",
        "\tfile = drive.CreateFile({'parents':[{u'id': folder_id}], 'title':getName(filePath)})\n",
        "\tfile.SetContentFile(filePath)\n",
        "\tfile.Upload()\n",
        "\tprint(\"uploaded file  : {name}\".format(name=filePath))\n",
        "\n",
        "\n",
        "def getName(path):\n",
        "\treturn path.split('/')[-1] if path.split('/')[-1] != '' else path.split('/')[-2]"
      ],
      "execution_count": 0,
      "outputs": []
    },
    {
      "metadata": {
        "id": "_aRbRq480ANg",
        "colab_type": "code",
        "colab": {
          "base_uri": "https://localhost:8080/",
          "height": 191
        },
        "outputId": "ff171b3e-f009-496e-b794-96ba3fba365d"
      },
      "cell_type": "code",
      "source": [
        "colab_folder = '1AHB09g_MMM73vmCGEgrg0MVzzKih0Uh_'\n",
        "upload('./save', colab_folder)"
      ],
      "execution_count": 41,
      "outputs": [
        {
          "output_type": "stream",
          "text": [
            "uploading directory : save\n",
            "uploading file : ./save/LeNet.ckpt.index\n",
            "uploaded file  : ./save/LeNet.ckpt.index\n",
            "uploading file : ./save/checkpoint\n",
            "uploaded file  : ./save/checkpoint\n",
            "uploading file : ./save/LeNet.ckpt.meta\n",
            "uploaded file  : ./save/LeNet.ckpt.meta\n",
            "uploading file : ./save/LeNet.ckpt.data-00000-of-00001\n",
            "uploaded file  : ./save/LeNet.ckpt.data-00000-of-00001\n",
            "uploaded directory  : save\n"
          ],
          "name": "stdout"
        }
      ]
    },
    {
      "metadata": {
        "id": "V6EZ4fo3Phgh",
        "colab_type": "code",
        "colab": {}
      },
      "cell_type": "code",
      "source": [
        ""
      ],
      "execution_count": 0,
      "outputs": []
    }
  ]
}